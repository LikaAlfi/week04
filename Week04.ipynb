{
  "cells": [
    {
      "cell_type": "markdown",
      "metadata": {
        "id": "view-in-github",
        "colab_type": "text"
      },
      "source": [
        "<a href=\"https://colab.research.google.com/github/LikaAlfi/week04/blob/main/Week04.ipynb\" target=\"_parent\"><img src=\"https://colab.research.google.com/assets/colab-badge.svg\" alt=\"Open In Colab\"/></a>"
      ]
    },
    {
      "cell_type": "code",
      "execution_count": null,
      "metadata": {
        "colab": {
          "base_uri": "https://localhost:8080/"
        },
        "id": "MCo9Tomrhtr9",
        "outputId": "ca967ad4-3913-4b05-9a96-26c4d36217be"
      },
      "outputs": [
        {
          "data": {
            "text/plain": [
              "False"
            ]
          },
          "execution_count": 1,
          "metadata": {},
          "output_type": "execute_result"
        }
      ],
      "source": [
        "# Condition Equal\n",
        "\n",
        "a = 5\n",
        "a == 6"
      ]
    },
    {
      "cell_type": "code",
      "execution_count": null,
      "metadata": {
        "colab": {
          "base_uri": "https://localhost:8080/"
        },
        "id": "yaSVGDHci5HH",
        "outputId": "4fea91da-8f7b-4184-b206-37dc639f4d47"
      },
      "outputs": [
        {
          "data": {
            "text/plain": [
              "True"
            ]
          },
          "execution_count": 3,
          "metadata": {},
          "output_type": "execute_result"
        }
      ],
      "source": [
        "# Greater than sign\n",
        "\n",
        "i =  6\n",
        "i >  5"
      ]
    },
    {
      "cell_type": "code",
      "execution_count": null,
      "metadata": {
        "colab": {
          "base_uri": "https://localhost:8080/"
        },
        "id": "jzmz-BNjiXIA",
        "outputId": "bc7c661b-5c0c-43a0-9b7b-069c267d22d4"
      },
      "outputs": [
        {
          "data": {
            "text/plain": [
              "False"
            ]
          },
          "execution_count": 2,
          "metadata": {},
          "output_type": "execute_result"
        }
      ],
      "source": [
        "# Greater than Sign\n",
        "\n",
        "i = 2\n",
        "i > 5"
      ]
    },
    {
      "cell_type": "code",
      "execution_count": null,
      "metadata": {
        "colab": {
          "base_uri": "https://localhost:8080/"
        },
        "id": "uQUw9wzRiyTO",
        "outputId": "c475844d-2a19-44a4-d45d-225aea0512db"
      },
      "outputs": [
        {
          "data": {
            "text/plain": [
              "True"
            ]
          },
          "execution_count": 4,
          "metadata": {},
          "output_type": "execute_result"
        }
      ],
      "source": [
        "# Inequality Sign\n",
        "\n",
        "i = 2\n",
        "i != 6"
      ]
    },
    {
      "cell_type": "code",
      "execution_count": null,
      "metadata": {
        "colab": {
          "base_uri": "https://localhost:8080/"
        },
        "id": "Ar94vNYhi1O_",
        "outputId": "7431aef2-b3c3-46b0-b996-2fdc20db32d5"
      },
      "outputs": [
        {
          "data": {
            "text/plain": [
              "False"
            ]
          },
          "execution_count": 5,
          "metadata": {},
          "output_type": "execute_result"
        }
      ],
      "source": [
        "# Inequality Sign\n",
        "\n",
        "i = 6\n",
        "i != 6\n"
      ]
    },
    {
      "cell_type": "code",
      "execution_count": null,
      "metadata": {
        "colab": {
          "base_uri": "https://localhost:8080/"
        },
        "id": "YChR-bvgjfgQ",
        "outputId": "c00d8d39-d15b-418e-e265-43818d60ad22"
      },
      "outputs": [
        {
          "data": {
            "text/plain": [
              "False"
            ]
          },
          "execution_count": 6,
          "metadata": {},
          "output_type": "execute_result"
        }
      ],
      "source": [
        "# Use Equality sign to compare the strings\n",
        "\n",
        "\"ACDC\" == \"Michael Jackson\""
      ]
    },
    {
      "cell_type": "code",
      "execution_count": null,
      "metadata": {
        "colab": {
          "base_uri": "https://localhost:8080/"
        },
        "id": "8Oy3wxeTj6Dk",
        "outputId": "9a01fa56-cde4-43b9-b8c4-b1535d992129"
      },
      "outputs": [
        {
          "data": {
            "text/plain": [
              "True"
            ]
          },
          "execution_count": 7,
          "metadata": {},
          "output_type": "execute_result"
        }
      ],
      "source": [
        "# Use Inequality sign to compare the strings\n",
        "\n",
        "\"ACDC\" != \"Michael Jackson\""
      ]
    },
    {
      "cell_type": "code",
      "execution_count": null,
      "metadata": {
        "colab": {
          "base_uri": "https://localhost:8080/"
        },
        "id": "KlUQ8g7wkJEn",
        "outputId": "77eeafa0-b5ed-4f54-8105-1a1bcd2848d6"
      },
      "outputs": [
        {
          "data": {
            "text/plain": [
              "True"
            ]
          },
          "execution_count": 8,
          "metadata": {},
          "output_type": "execute_result"
        }
      ],
      "source": [
        "# Compare characters\n",
        "\n",
        "'B' > 'AB'"
      ]
    },
    {
      "cell_type": "code",
      "execution_count": null,
      "metadata": {
        "colab": {
          "base_uri": "https://localhost:8080/"
        },
        "id": "dQCyCxnHkUM_",
        "outputId": "86c53ad4-c03b-46ab-9855-640159d14ab8"
      },
      "outputs": [
        {
          "data": {
            "text/plain": [
              "True"
            ]
          },
          "execution_count": 9,
          "metadata": {},
          "output_type": "execute_result"
        }
      ],
      "source": [
        "\"ba\" >= 'ba'"
      ]
    },
    {
      "cell_type": "code",
      "execution_count": null,
      "metadata": {
        "colab": {
          "base_uri": "https://localhost:8080/"
        },
        "id": "dOSYmw0MkeM3",
        "outputId": "e03b7c24-bd45-4eed-9662-09536d1298e9"
      },
      "outputs": [
        {
          "name": "stdout",
          "output_type": "stream",
          "text": [
            "move on\n"
          ]
        }
      ],
      "source": [
        "# If statement example\n",
        "\n",
        "#age = 19\n",
        "age=18\n",
        "\n",
        "#expression that can be true or false\n",
        "if age > 18:\n",
        "\n",
        "    #within an indent, we have the expression that is run if the condional is true\n",
        "    print(\"you can enter\" )\n",
        "\n",
        "#The statement after the if statement will run regardless if the condition is true or false\n",
        "print(\"move on\")\n"
      ]
    },
    {
      "cell_type": "code",
      "execution_count": null,
      "metadata": {
        "colab": {
          "base_uri": "https://localhost:8080/"
        },
        "id": "7m3Whn2rlhyY",
        "outputId": "e15bd1f2-8547-4441-f099-57c99e693f42"
      },
      "outputs": [
        {
          "name": "stdout",
          "output_type": "stream",
          "text": [
            "you can enter\n",
            "move on\n"
          ]
        }
      ],
      "source": [
        "# Else statement example\n",
        "\n",
        "#age\n",
        "age = 19\n",
        "\n",
        "if age > 18:\n",
        "    print(\"you can enter\" )\n",
        "else:\n",
        "    print(\"go se Meat Loaf\" )\n",
        "    #print(\"move on\")\n",
        "\n",
        "print(\"move on\")"
      ]
    },
    {
      "cell_type": "code",
      "execution_count": null,
      "metadata": {
        "colab": {
          "base_uri": "https://localhost:8080/"
        },
        "id": "Bn0nAlGBmM7K",
        "outputId": "eb3b1847-216e-4980-8966-64d3dd0be3cc"
      },
      "outputs": [
        {
          "name": "stdout",
          "output_type": "stream",
          "text": [
            "you can enter\n",
            "move on\n"
          ]
        }
      ],
      "source": [
        "# Else statement example\n",
        "\n",
        "#age = 17\n",
        "age = 19\n",
        "\n",
        "if age > 18:\n",
        "    print(\"you can enter\" )\n",
        "else:\n",
        "    print(\"go see Meat Loaf\" )\n",
        "    #print(\"move on\")\n",
        "\n",
        "print(\"move on\")"
      ]
    },
    {
      "cell_type": "code",
      "execution_count": null,
      "metadata": {
        "colab": {
          "base_uri": "https://localhost:8080/"
        },
        "id": "6hTveWA9m7jJ",
        "outputId": "fdd108e1-67d9-43fd-94de-0eae42398c42"
      },
      "outputs": [
        {
          "name": "stdout",
          "output_type": "stream",
          "text": [
            "go see pink Floyd\n",
            "move on\n"
          ]
        }
      ],
      "source": [
        "# Elif statement example\n",
        "\n",
        "age = 18\n",
        "\n",
        "if age > 18:\n",
        "    print(\"you can enter\" )\n",
        "elif age == 18:\n",
        "    print(\"go see pink Floyd\")\n",
        "else:\n",
        "    print(\"go see Meat Loaf\" )\n",
        "\n",
        "print(\"move on\")"
      ]
    },
    {
      "cell_type": "code",
      "execution_count": null,
      "metadata": {
        "colab": {
          "base_uri": "https://localhost:8080/"
        },
        "id": "31rmgMGxnkyh",
        "outputId": "a3a3f63c-47b1-4e7d-8625-0f337ba707f2"
      },
      "outputs": [
        {
          "name": "stdout",
          "output_type": "stream",
          "text": [
            "Album year is greater than 1980\n",
            "do something..\n"
          ]
        }
      ],
      "source": [
        "# Conditional statement example\n",
        "\n",
        "album_year = 1983\n",
        "#album_year = 1970\n",
        "\n",
        "if album_year > 1980:\n",
        "    print(\"Album year is greater than 1980\")\n",
        "\n",
        "print('do something..')"
      ]
    },
    {
      "cell_type": "code",
      "execution_count": null,
      "metadata": {
        "colab": {
          "base_uri": "https://localhost:8080/"
        },
        "id": "vezZ-QqnoP16",
        "outputId": "2c275e8b-0153-41ba-e400-69ebed40f426"
      },
      "outputs": [
        {
          "name": "stdout",
          "output_type": "stream",
          "text": [
            "less than 1980\n",
            "do something..\n"
          ]
        }
      ],
      "source": [
        "# Condition statement example\n",
        "\n",
        "#album_year = 1983\n",
        "album_year = 1970\n",
        "\n",
        "if album_year > 1980:\n",
        "    print(\"Album year is greater than 1980\")\n",
        "else:\n",
        "    print(\"less than 1980\")\n",
        "\n",
        "print('do something..')"
      ]
    },
    {
      "cell_type": "code",
      "execution_count": null,
      "metadata": {
        "colab": {
          "base_uri": "https://localhost:8080/"
        },
        "id": "aDxLiECDqGuq",
        "outputId": "bd1f02bb-2af2-4494-8971-64ec127d570b"
      },
      "outputs": [
        {
          "name": "stdout",
          "output_type": "stream",
          "text": [
            "Album year was in between 1980 and 1989\n",
            "\n",
            "Do stuff..\n"
          ]
        }
      ],
      "source": [
        "# Condition statement example\n",
        "\n",
        "album_year = 1980\n",
        "\n",
        "if(album_year > 1979) and (album_year < 1990):\n",
        "    print(\"Album year was in between 1980 and 1989\")\n",
        "\n",
        "print(\"\")\n",
        "print(\"Do stuff..\")"
      ]
    },
    {
      "cell_type": "code",
      "execution_count": null,
      "metadata": {
        "colab": {
          "base_uri": "https://localhost:8080/"
        },
        "id": "ukrsqGcgtD9j",
        "outputId": "1d420b87-fffc-478e-a6d6-cba7c4055853"
      },
      "outputs": [
        {
          "name": "stdout",
          "output_type": "stream",
          "text": [
            "Album was not made in the 1980's\n"
          ]
        }
      ],
      "source": [
        "# Condition statement example\n",
        "\n",
        "album_year = 1978\n",
        "\n",
        "if(album_year < 1980) or (album_year > 1989):\n",
        "    print (\"Album was not made in the 1980's\")\n",
        "else:\n",
        "    print(\"The Album was made in the 1980's\")"
      ]
    },
    {
      "cell_type": "code",
      "execution_count": null,
      "metadata": {
        "colab": {
          "base_uri": "https://localhost:8080/"
        },
        "id": "_9mTQO6TtzuL",
        "outputId": "2a9b7634-79f1-4aed-f145-f4e5784f4ba3"
      },
      "outputs": [
        {
          "name": "stdout",
          "output_type": "stream",
          "text": [
            "Album year is not 1984\n"
          ]
        }
      ],
      "source": [
        "# Condition statement example\n",
        "\n",
        "album_year = 1984\n",
        "\n",
        "if not (album_year == '1984'):\n",
        "    print (\"Album year is not 1984\")"
      ]
    },
    {
      "cell_type": "code",
      "execution_count": null,
      "metadata": {
        "colab": {
          "base_uri": "https://localhost:8080/"
        },
        "id": "lo3lr4ZLuMNT",
        "outputId": "dda1a9b2-67c0-48cf-c7fe-1dba9ab37158"
      },
      "outputs": [
        {
          "name": "stdout",
          "output_type": "stream",
          "text": [
            "This album is amazing!\n"
          ]
        }
      ],
      "source": [
        "rating = 8.5\n",
        "if rating >8:\n",
        "    print (\"This album is amazing!\")"
      ]
    },
    {
      "cell_type": "code",
      "execution_count": null,
      "metadata": {
        "colab": {
          "base_uri": "https://localhost:8080/"
        },
        "id": "j0aYW7qOusUD",
        "outputId": "936695f3-b806-4843-d476-0a5bcdb634ee"
      },
      "outputs": [
        {
          "name": "stdout",
          "output_type": "stream",
          "text": [
            "this album is amazing\n"
          ]
        }
      ],
      "source": [
        "rating = 8.5\n",
        "if rating > 8:\n",
        "    print (\"this album is amazing\")\n",
        "else:\n",
        "    print (\"this album is ok\")"
      ]
    },
    {
      "cell_type": "code",
      "execution_count": null,
      "metadata": {
        "colab": {
          "base_uri": "https://localhost:8080/"
        },
        "id": "Sf1ptT-9u_wT",
        "outputId": "5c793e27-5eb0-4b96-9082-86e3714ff04a"
      },
      "outputs": [
        {
          "name": "stdout",
          "output_type": "stream",
          "text": [
            "this album came out already\n"
          ]
        }
      ],
      "source": [
        "album_year =  1979\n",
        "\n",
        "if album_year < 1980 or album_year == 1991 or album_year == 1993:\n",
        "    print (\"this album came out already\")"
      ]
    },
    {
      "cell_type": "code",
      "source": [
        "# Weekly exercise 1\n",
        "# Membuat kode program dari flowchart\n",
        "\n",
        "# age = 17\n",
        "age = 15\n",
        "\n",
        "if age < 17:\n",
        "  print(\"tidak boleh membuat sim\")\n",
        "elif age >= 17:\n",
        "  print(\"boleh membuat sim\")\n",
        "else:\n",
        "  print(\"bebas\")\n"
      ],
      "metadata": {
        "colab": {
          "base_uri": "https://localhost:8080/"
        },
        "id": "4rAcu-5jtMmV",
        "outputId": "3f7e4456-39dd-4a15-9e9a-f2d4c92a1620"
      },
      "execution_count": null,
      "outputs": [
        {
          "output_type": "stream",
          "name": "stdout",
          "text": [
            "tidak boleh membuat sim\n"
          ]
        }
      ]
    },
    {
      "cell_type": "code",
      "execution_count": 2,
      "metadata": {
        "colab": {
          "base_uri": "https://localhost:8080/"
        },
        "id": "Tonuq6f1vZnb",
        "outputId": "a4ec0f71-e34b-42ea-f867-390985e3248a"
      },
      "outputs": [
        {
          "output_type": "stream",
          "name": "stdout",
          "text": [
            "Tidak boleh membuat sim\n"
          ]
        }
      ],
      "source": [
        "# weekly exercise 1\n",
        "# Membuat kode dari flowchart\n",
        "\n",
        "#age = 17\n",
        "age = 10\n",
        "\n",
        "if age < 17:\n",
        "    print(\"Tidak boleh membuat sim\" )\n",
        "else:\n",
        "    print(\"boleh membuat sim\" )"
      ]
    },
    {
      "cell_type": "code",
      "execution_count": null,
      "metadata": {
        "colab": {
          "base_uri": "https://localhost:8080/"
        },
        "id": "AqH5X6gT2hO7",
        "outputId": "a9a168e3-dd74-491b-aaa5-4a4edba31d42"
      },
      "outputs": [
        {
          "output_type": "stream",
          "name": "stdout",
          "text": [
            "Boleh membuat sim\n"
          ]
        }
      ],
      "source": [
        "#age = 17\n",
        "age = 22\n",
        "\n",
        "if age >= 17:\n",
        "    print(\"Boleh membuat sim\")\n",
        "else:\n",
        "    print(\"tidak boleh membuat sim\")"
      ]
    },
    {
      "cell_type": "code",
      "execution_count": null,
      "metadata": {
        "colab": {
          "base_uri": "https://localhost:8080/"
        },
        "id": "d3dbD0nj3AW2",
        "outputId": "110457ad-b9d8-4063-e8c6-44626e229804"
      },
      "outputs": [
        {
          "name": "stdout",
          "output_type": "stream",
          "text": [
            "Grade = B\n"
          ]
        }
      ],
      "source": [
        "# weekly exercise 2\n",
        "# membuat kode program berdasarkan flowchart\n",
        "\n",
        "#nilai = 70.05\n",
        "nilai = 70.05\n",
        "\n",
        "if nilai >= 90:\n",
        "    print(\"Grade = A\")\n",
        "elif nilai >= 80:\n",
        "    print(\"Grade = B+\")\n",
        "elif nilai >= 70:\n",
        "    print(\"Grade = B\")\n",
        "elif nilai >= 60:\n",
        "    print(\"Grade = C+\")\n",
        "elif nilai >= 50:\n",
        "    print(\"Grade = C\")\n",
        "elif nilai >= 40:\n",
        "    print(\"Grade = D\")\n",
        "else:\n",
        "     print(\"Grade = E\")"
      ]
    },
    {
      "cell_type": "code",
      "execution_count": 6,
      "metadata": {
        "colab": {
          "base_uri": "https://localhost:8080/"
        },
        "id": "SbVXnWlzL_jx",
        "outputId": "34ef8a10-c47d-489e-f483-05d9738013b5"
      },
      "outputs": [
        {
          "output_type": "stream",
          "name": "stdout",
          "text": [
            "niali = A\n"
          ]
        }
      ],
      "source": [
        "# weekly exercise 3\n",
        "# membuat kode program berdasarkan data\n",
        "\n",
        "# nilai = 80.50\n",
        "nilai = 90.00\n",
        "\n",
        "if nilai >= 80.00:\n",
        "  print(\"niali = A\")\n",
        "elif nilai >= 77.50:\n",
        "  print(\"nilai = A-\")\n",
        "elif nilai >= 75.00:\n",
        "  print(\"nilai = A/B\")\n",
        "elif nilai >= 72.50:\n",
        "  print(\"nilai = B+\")\n",
        "elif nilai >= 70.00:\n",
        "  print(\"nilai = B\")\n",
        "elif nilai >=  67.50:\n",
        "  print(\"nilai = B-\")\n",
        "elif nilai >=65.00:\n",
        "  print(\"nila = B/C\")\n",
        "elif nilai >= 62.50:\n",
        "  print(\"nilai = C+\")\n",
        "elif nilai >= 60.00:\n",
        "  print(\"nilai = C\")\n",
        "elif nilai >= 55.00:\n",
        "  print(\"nilai = C-\")\n",
        "elif nilai >= 50.00:\n",
        "  print(\"nilai = C/D\")\n",
        "elif nilai >= 45.00:\n",
        "  print(\"nilai = D+\")\n",
        "elif nilai >= 40.00:\n",
        "  print(\"nilai = D\")\n",
        "else:\n",
        "  print(\"nilai = E\")"
      ]
    },
    {
      "cell_type": "code",
      "execution_count": null,
      "metadata": {
        "id": "Am1x-1HmL_Uh"
      },
      "outputs": [],
      "source": []
    }
  ],
  "metadata": {
    "colab": {
      "provenance": [],
      "authorship_tag": "ABX9TyMfjg1MWcnyNGCzyfZHrfk4",
      "include_colab_link": true
    },
    "kernelspec": {
      "display_name": "Python 3",
      "name": "python3"
    },
    "language_info": {
      "name": "python"
    }
  },
  "nbformat": 4,
  "nbformat_minor": 0
}